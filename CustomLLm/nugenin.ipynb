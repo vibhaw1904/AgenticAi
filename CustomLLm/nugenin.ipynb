{
 "cells": [
  {
   "cell_type": "code",
   "execution_count": null,
   "id": "dab7316d",
   "metadata": {},
   "outputs": [],
   "source": [
    "# Step 1: Implement the Custom LLM class\n",
    "from typing import Any\n",
    "from langchain_core.language_models.llms import LLM\n",
    "import requests\n",
    "\n",
    "class CustomLLM(LLM):\n",
    "    api_key: str\n",
    "\n",
    "    def __init__(self, api_key: str, **kwargs):\n",
    "        super().__init__(**kwargs)\n",
    "        object.__setattr__(self, 'api_key', api_key)\n",
    "\n",
    "    @property\n",
    "    def _llm_type(self) -> str:\n",
    "        return \"custom\"\n",
    "\n",
    "    @property\n",
    "    def _identifying_params(self):\n",
    "        return {\"api_key\": self.api_key}\n",
    "\n",
    "    def _call(self, messages, **kwargs: Any) -> str:\n",
    "        prompt = messages[-1].content if messages else \"\"\n",
    "        response = requests.post(\n",
    "            \"https://api.nugen.in/api/v3/agents/nugen-vi-0ap3wr0t/run/\",\n",
    "            headers={\"Authorization\": f\"Bearer {self.api_key}\"},\n",
    "            json={\"prompt\": prompt}\n",
    "        )\n",
    "        return response.json()[\"generated_text\"]"
   ]
  }
 ],
 "metadata": {
  "language_info": {
   "name": "python"
  }
 },
 "nbformat": 4,
 "nbformat_minor": 5
}
