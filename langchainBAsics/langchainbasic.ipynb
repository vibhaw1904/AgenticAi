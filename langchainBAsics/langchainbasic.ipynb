{
 "cells": [
  {
   "cell_type": "code",
   "execution_count": 1,
   "id": "16119e34",
   "metadata": {},
   "outputs": [
    {
     "data": {
      "text/plain": [
       "AIMessage(content=\"I want to clarify that I'm Claude, an AI assistant created by Anthropic, not Vibhaw. I aim to be direct and honest about who and what I am. How can I help you today?\", additional_kwargs={}, response_metadata={'id': 'msg_015p3GZXC4EbyQ3DtWXpGBCb', 'model': 'claude-3-5-sonnet-20241022', 'stop_reason': 'end_turn', 'stop_sequence': None, 'usage': {'cache_creation_input_tokens': 0, 'cache_read_input_tokens': 0, 'input_tokens': 13, 'output_tokens': 49, 'server_tool_use': None, 'service_tier': 'standard'}, 'model_name': 'claude-3-5-sonnet-20241022'}, id='run--b473c5be-0664-441e-9d9b-94e058b7f648-0', usage_metadata={'input_tokens': 13, 'output_tokens': 49, 'total_tokens': 62, 'input_token_details': {'cache_read': 0, 'cache_creation': 0}})"
      ]
     },
     "execution_count": 1,
     "metadata": {},
     "output_type": "execute_result"
    }
   ],
   "source": [
    "import getpass\n",
    "import os\n",
    "from langchain.chat_models import init_chat_model\n",
    "from langchain_core.messages import HumanMessage,SystemMessage\n",
    "# from dotenv import load_dotenv\n",
    "# load_dotenv()\n",
    "\n",
    "if not os.environ.get(\"ANTHROPIC_API_KEY\"):\n",
    "      os.environ[\"ANTHROPIC_API_KEY\"] = getpass.getpass(\"Enter API key for Anthropic: \")\n",
    "\n",
    "\n",
    "model = init_chat_model(\"claude-3-5-sonnet-latest\", model_provider=\"anthropic\")\n",
    "\n",
    "\n",
    "model.invoke(\"Hello, vibhaw!\")"
   ]
  },
  {
   "cell_type": "code",
   "execution_count": 2,
   "id": "f6fe947a",
   "metadata": {},
   "outputs": [
    {
     "data": {
      "text/plain": [
       "AIMessage(content='Here are two key benefits of using LangChain:\\n\\n1. Chain Composition and Modularity:\\n- LangChain allows you to easily combine multiple AI operations into chains of tasks\\n- You can break down complex workflows into smaller, reusable components\\n- Makes it simpler to create sophisticated AI applications by connecting different tools and models in a modular way\\n\\n2. Built-in Abstractions and Integrations:\\n- Provides pre-built components for common operations like memory management, document loading, and text splitting\\n- Offers ready-to-use integrations with various LLMs (like GPT-3, GPT-4) and vector stores\\n- Reduces boilerplate code and speeds up development by providing consistent interfaces for different AI services\\n\\nThese features make LangChain particularly valuable for building complex AI applications while keeping the code organized and maintainable.', additional_kwargs={}, response_metadata={'id': 'msg_01Smvmf6aAqGpoQkEvb3oJY9', 'model': 'claude-3-5-sonnet-20241022', 'stop_reason': 'end_turn', 'stop_sequence': None, 'usage': {'cache_creation_input_tokens': 0, 'cache_read_input_tokens': 0, 'input_tokens': 22, 'output_tokens': 192, 'server_tool_use': None, 'service_tier': 'standard'}, 'model_name': 'claude-3-5-sonnet-20241022'}, id='run--54360524-e938-4cb8-ab99-585690a2005d-0', usage_metadata={'input_tokens': 22, 'output_tokens': 192, 'total_tokens': 214, 'input_token_details': {'cache_read': 0, 'cache_creation': 0}})"
      ]
     },
     "execution_count": 2,
     "metadata": {},
     "output_type": "execute_result"
    }
   ],
   "source": [
    "##create message \n",
    "messsgaes = [\n",
    "    SystemMessage(content=\"You are a helpful assistant.\"),\n",
    "    HumanMessage(content=\"what are two benefits of using  langchain\"),]\n",
    "model.invoke(messsgaes)"
   ]
  },
  {
   "cell_type": "code",
   "execution_count": 3,
   "id": "a9ed3892",
   "metadata": {},
   "outputs": [
    {
     "name": "stdout",
     "output_type": "stream",
     "text": [
      "Here are two key benefits of using LangChain:\n",
      "\n",
      "1. Chain Management and Composition:\n",
      "- LangChain makes it easy to combine multiple AI operations into sequential chains\n",
      "- You can create complex workflows by connecting different components (prompts, models, memory, etc.)\n",
      "- Helps organize and manage the flow of data between different parts of your AI application\n",
      "\n",
      "2. Built-in Abstractions and Integrations:\n",
      "- Provides pre-built components for common tasks (document loading, text splitting, vector stores, etc.)\n",
      "- Offers integrations with multiple LLM providers (OpenAI, Hugging Face, etc.)\n",
      "- Reduces boilerplate code and makes it easier to switch between different tools and services\n",
      "\n",
      "These features make LangChain particularly useful for building complex LLM-powered applications while keeping the code organized and maintainable."
     ]
    }
   ],
   "source": [
    "for chunk in model.stream(messsgaes):\n",
    "    print(chunk.content, end=\"\", flush=True)"
   ]
  },
  {
   "cell_type": "code",
   "execution_count": 4,
   "id": "76734af4",
   "metadata": {},
   "outputs": [],
   "source": [
    "##dynamic prompt template\n",
    "from langchain.prompts import ChatPromptTemplate\n",
    "\n",
    "##create translation app\n",
    "\n",
    "\n",
    "translation_template=ChatPromptTemplate.from_messages(\n",
    "    [\n",
    "       ( \"system\",\n",
    "        \"You are a helpful assistant that translates {source_language} to {target_language}.maintain the tone and style\",),\n",
    "        (\"user\",\n",
    "        \"Translate the following text from {source_language} to {target_language}: {text}\")\n",
    "    ]\n",
    ")\n",
    "\n",
    "##\n",
    "prompt=translation_template.invoke({\n",
    "    \"source_language\": \"English\",\n",
    "    \"target_language\": \"French\",\n",
    "    \"text\": \"lanchchain is a framework for developing applications powered by language models.\"\n",
    "})\n"
   ]
  },
  {
   "cell_type": "code",
   "execution_count": 5,
   "id": "defdbf3a",
   "metadata": {},
   "outputs": [
    {
     "name": "stdout",
     "output_type": "stream",
     "text": [
      "La langchain est un cadre de développement pour créer des applications alimentées par des modèles de langage."
     ]
    }
   ],
   "source": [
    "model.invoke(prompt)\n",
    "for chunk in model.stream(prompt):\n",
    "    print(chunk.content, end=\"\", flush=True)"
   ]
  },
  {
   "cell_type": "markdown",
   "id": "9a591a8e",
   "metadata": {},
   "source": [
    "Building First Chain\n"
   ]
  },
  {
   "cell_type": "code",
   "execution_count": 9,
   "id": "aab0ef89",
   "metadata": {},
   "outputs": [],
   "source": [
    "from langchain_core.output_parsers import StrOutputParser\n",
    "from langchain_core.runnables import RunnablePassthrough, RunnableLambda\n",
    "\n",
    "def create_story_chain():\n",
    "    ##template for story generation\n",
    "    story_prompt = ChatPromptTemplate.from_messages(\n",
    "        [\n",
    "            (\"system\", \"You are a story generator. You will be given a topic and given theme, and you will write a short story about that topic with that tone.\"),\n",
    "        (\"user\", \"Write a story about {topic} with the theme of {theme}. /n Settings: {settings}\"),\n",
    "        ]    \n",
    "    )\n",
    "\n",
    "\n",
    "    ##template for story analysis\n",
    "    analysis_prompt = ChatPromptTemplate.from_messages(\n",
    "        [   \n",
    "            (\"system\", \"You are a story analyzer. You will be given a story and you will analyze it.\"),\n",
    "            (\"user\", \"Analyze the following story: {story}\"),\n",
    "        ]\n",
    "    )\n",
    "\n",
    "\n",
    "    story_chain=(\n",
    "        story_prompt | model | StrOutputParser() \n",
    "    )\n",
    "\n",
    "    ##craete a function to pass the story to analysis \n",
    "    def analyze_story(story):\n",
    "        return {\n",
    "            \"story\": story\n",
    "        }\n",
    "\n",
    "    analysis_chain=(\n",
    "        story_chain\n",
    "        | RunnableLambda(analyze_story)\n",
    "        | analysis_prompt\n",
    "        | model\n",
    "        | StrOutputParser()\n",
    "    )\n",
    "\n",
    "    return analysis_chain"
   ]
  },
  {
   "cell_type": "code",
   "execution_count": 10,
   "id": "59760c56",
   "metadata": {},
   "outputs": [
    {
     "data": {
      "text/plain": [
       "ChatPromptTemplate(input_variables=['settings', 'theme', 'topic'], input_types={}, partial_variables={}, messages=[SystemMessagePromptTemplate(prompt=PromptTemplate(input_variables=[], input_types={}, partial_variables={}, template='You are a story generator. You will be given a topic and given theme, and you will write a short story about that topic with that tone.'), additional_kwargs={}), HumanMessagePromptTemplate(prompt=PromptTemplate(input_variables=['settings', 'theme', 'topic'], input_types={}, partial_variables={}, template='Write a story about {topic} with the theme of {theme}. /n Settings: {settings}'), additional_kwargs={})])\n",
       "| ChatAnthropic(model='claude-3-5-sonnet-latest', anthropic_api_url='https://api.anthropic.com', anthropic_api_key=SecretStr('**********'), model_kwargs={})\n",
       "| StrOutputParser()\n",
       "| RunnableLambda(analyze_story)\n",
       "| ChatPromptTemplate(input_variables=['story'], input_types={}, partial_variables={}, messages=[SystemMessagePromptTemplate(prompt=PromptTemplate(input_variables=[], input_types={}, partial_variables={}, template='You are a story analyzer. You will be given a story and you will analyze it.'), additional_kwargs={}), HumanMessagePromptTemplate(prompt=PromptTemplate(input_variables=['story'], input_types={}, partial_variables={}, template='Analyze the following story: {story}'), additional_kwargs={})])\n",
       "| ChatAnthropic(model='claude-3-5-sonnet-latest', anthropic_api_url='https://api.anthropic.com', anthropic_api_key=SecretStr('**********'), model_kwargs={})\n",
       "| StrOutputParser()"
      ]
     },
     "execution_count": 10,
     "metadata": {},
     "output_type": "execute_result"
    }
   ],
   "source": [
    "chain= create_story_chain()\n",
    "chain"
   ]
  },
  {
   "cell_type": "code",
   "execution_count": 13,
   "id": "26e4d788",
   "metadata": {},
   "outputs": [
    {
     "name": "stdout",
     "output_type": "stream",
     "text": [
      "Here's my analysis of \"Colors of Love\":\n",
      "\n",
      "Theme:\n",
      "The primary themes are:\n",
      "- Cultural preservation and inheritance\n",
      "- Family bonds and traditions\n",
      "- Intergenerational connections\n",
      "- The importance of cultural identity\n",
      "- Love and unity\n",
      "\n",
      "Setting:\n",
      "- An Indian household during Diwali celebrations\n",
      "- The story moves between kitchen, veranda, and courtyard\n",
      "- Rich sensory details create an immersive atmosphere\n",
      "\n",
      "Characters:\n",
      "- Priya: 15-year-old protagonist, representing the new generation learning traditions\n",
      "- Dadi (grandmother): The family matriarch, keeper of traditions\n",
      "- Extended family members, including cousins, aunts, and uncles\n",
      "- Each character represents different generations coming together\n",
      "\n",
      "Literary Elements:\n",
      "1. Symbolism:\n",
      "- Diyas represent hope and enlightenment\n",
      "- Food preparation symbolizes passing down of cultural knowledge\n",
      "- The silk saree tradition represents coming of age and cultural continuity\n",
      "\n",
      "2. Sensory Details:\n",
      "- Aromatic descriptions (cardamom, saffron)\n",
      "- Visual imagery (rangoli, lights, marigolds)\n",
      "- Auditory elements (fireworks, bhajans)\n",
      "\n",
      "3. Narrative Structure:\n",
      "- Linear progression through the festival preparations and celebrations\n",
      "- Introspective moments woven throughout\n",
      "\n",
      "Cultural Significance:\n",
      "- Depicts Diwali celebrations\n",
      "- Showcases Indian family dynamics\n",
      "- Highlights the importance of cultural transmission\n",
      "- Emphasizes the role of food in cultural identity\n",
      "\n",
      "Message:\n",
      "The story conveys that traditions and cultural practices are vital threads that connect generations and provide a sense of belonging and identity. It emphasizes that modernization doesn't have to mean abandoning cultural heritage.\n",
      "\n",
      "Style:\n",
      "- Warm and intimate tone\n",
      "- Rich descriptive language\n",
      "- Balanced mixture of action and reflection\n",
      "- Effective use of Indian terms with context clues for understanding\n",
      "\n",
      "The story successfully captures the essence of cultural celebration while exploring deeper themes of family bonds and heritage preservation.\n"
     ]
    }
   ],
   "source": [
    "result=chain.invoke({\n",
    "    \"topic\": \"indian culture\",\n",
    "    \"theme\": \"celebration\",   \n",
    "    \"settings\": \"festivals, traditions, and family gatherings\",\n",
    "})\n",
    "print(result)"
   ]
  }
 ],
 "metadata": {
  "kernelspec": {
   "display_name": "AgenticAi",
   "language": "python",
   "name": "python3"
  },
  "language_info": {
   "codemirror_mode": {
    "name": "ipython",
    "version": 3
   },
   "file_extension": ".py",
   "mimetype": "text/x-python",
   "name": "python",
   "nbconvert_exporter": "python",
   "pygments_lexer": "ipython3",
   "version": "3.10.8"
  }
 },
 "nbformat": 4,
 "nbformat_minor": 5
}
